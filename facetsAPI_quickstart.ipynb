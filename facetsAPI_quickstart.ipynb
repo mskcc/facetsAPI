{
 "cells": [
  {
   "cell_type": "markdown",
   "metadata": {},
   "source": [
    "\n",
    "## Running facetsAPI\n",
    "   #### To run this notebook please follow the instructions on github found [here](https://github.com/mskcc/facetsAPI/blob/main/doc/installation.md)\n",
    "   \n",
    "   #### This means you must have installed pandas, matplotlib, and pip installed the facetsAPI or cloned the repo.\n",
    "   "
   ]
  },
  {
   "cell_type": "code",
   "execution_count": null,
   "metadata": {},
   "outputs": [],
   "source": [
    "# Right now facetsAPI import may not work, feel free to comment it out \n",
    "# and change the next cell to your installation directory \n",
    "# from facetsAPI import * \n",
    "import sys\n",
    "import os"
   ]
  },
  {
   "cell_type": "code",
   "execution_count": null,
   "metadata": {},
   "outputs": [],
   "source": [
    "sys.path.insert(1, '/juno/work/ccs/orgeraj/facetsAPI-1')\n",
    "from facetsAPI import *"
   ]
  },
  {
   "cell_type": "code",
   "execution_count": null,
   "metadata": {},
   "outputs": [],
   "source": [
    "# Establish your clinical sample file and facets directory. These can be changed as needed\n",
    "facets_dir            = \"/work/ccs/shared/resources/impact/facets/all/\"\n",
    "clinical_sample_file  = \"/work/ccs/shared/resources/impact/cbio_mutations/adam_cron/bsub_run/data_clinical_sample.oncokb.txt\"\n",
    "# facets_dir            = \"/work/ccs/shared/resources/impact/cbio_mutations/adam_cron/run_11-14-22/facets/fix_alt/all/\"\n",
    "\n",
    "\n"
   ]
  },
  {
   "cell_type": "markdown",
   "metadata": {},
   "source": [
    "## UseSingleRun: \n",
    "#### If useSingleSample, is set to True, then for each sample, a single run will be selected if a best or acceptable fit is selected\n",
    "\n",
    "## allowDefaults:\n",
    "\n",
    "#### If useSingleSample is True then possible to allow default fits to be selected in cases where no best or acceptable fit is indicated. This is represented by allowDefaults\n",
    "\n",
    "## By default both these are set to False.  \n",
    "#### Building FacetsMeta will be quicker if they are set to True, however. \n"
   ]
  },
  {
   "cell_type": "code",
   "execution_count": null,
   "metadata": {},
   "outputs": [],
   "source": [
    "useSingleRun = True\n",
    "allowDefaults = True"
   ]
  },
  {
   "cell_type": "markdown",
   "metadata": {},
   "source": [
    "### Next we create a FacetsMeta "
   ]
  },
  {
   "cell_type": "code",
   "execution_count": null,
   "metadata": {},
   "outputs": [],
   "source": [
    "prepared_metadata = FacetsMeta(clinical_sample_file, facets_dir, \"purity\") #purity can be changed to hisense if needed\n",
    "prepared_metadata.setSingleRunPerSample(useSingleRun,allowDefaults)\n",
    "\n",
    "prepared_metadata.buildFacetsMeta()  #this step actually builds it and takes a while to run\n"
   ]
  },
  {
   "cell_type": "markdown",
   "metadata": {},
   "source": [
    "## Creating a FacetsDataset\n",
    "#### Several filters can be set to create a unique dataset.  You can create a dataset containing only certain cancer types, oncocodes, puritys etc (for more filters read the documentation).  Filters must be set before buiding the dataset.  If filters are changed the dataset must be rebuilt.  \n",
    "#### This dataset can be summarized, reported, analyzed, copied to another folder, and more."
   ]
  },
  {
   "cell_type": "code",
   "execution_count": null,
   "metadata": {},
   "outputs": [],
   "source": [
    "test_dataset = FacetsDataset(prepared_metadata)\n",
    "\n",
    "test_dataset.setCancerTypeFilter([\"Breast Cancer\"])\n",
    "test_dataset.setOnkoCodeFilter(['BRCA'])\n",
    "test_dataset.setPurityFilter(0.3)\n",
    "test_dataset.buildFacetsDataset()\n",
    "test_dataset.writeDatasetSummary()\n",
    "test_dataset.writeReport(\"BRCA_Breast_pur.3-1_report.txt\")"
   ]
  },
  {
   "cell_type": "markdown",
   "metadata": {},
   "source": [
    "### Plots that summarize a dataset can be created for several types of sample datas like  msi, ploidy, or purity.\n",
    "#### To be able to use %matplotlib inline set interactive=True else the plots will be saved and not viewable in jupyter notebook.  If it is set to false make sure there is a histograms folder in your working directory for the histograms to be written to. \n",
    "#### There are many more operations that can be performed on a FacetsDataset.  Read the documentation for more info."
   ]
  },
  {
   "cell_type": "code",
   "execution_count": null,
   "metadata": {},
   "outputs": [],
   "source": [
    "%matplotlib inline\n",
    "for item in { 'purity' ,'ploidy', 'msi', 'wgd'}:\n",
    "#     for this to work create a histogram folder in your working directory\n",
    "    test_dataset.createHistogram(item,interactive=True)"
   ]
  },
  {
   "cell_type": "markdown",
   "metadata": {},
   "source": [
    "### One can look into specific samples and look at which genes are affected by mutations. "
   ]
  },
  {
   "cell_type": "code",
   "execution_count": null,
   "metadata": {},
   "outputs": [],
   "source": [
    "#sampleList is actually a dict so it takes a bit of effort to get the first sample\n",
    "sample = test_dataset.sampleList[list(test_dataset.sampleList)[0]] \n",
    "test_run = sample.runs[0]\n",
    "test_segment = test_run.segments[0] \n",
    "test_segment.printSegment()\n",
    "test_genes = test_run.genes[0]\n",
    "test_genes.printGene()  "
   ]
  },
  {
   "cell_type": "markdown",
   "metadata": {},
   "source": [
    "## Several analyses can be run and output from facetsAPI\n",
    "### Run alterations is one of them"
   ]
  },
  {
   "cell_type": "code",
   "execution_count": null,
   "metadata": {},
   "outputs": [],
   "source": [
    "test_dataset.runAlterationAnalysis()\n",
    "test_dataset.writeAlterationData(\"test_alterations_data.txt\")\n"
   ]
  }
 ],
 "metadata": {
  "kernelspec": {
   "display_name": "Python 3",
   "language": "python",
   "name": "python3"
  },
  "language_info": {
   "codemirror_mode": {
    "name": "ipython",
    "version": 3
   },
   "file_extension": ".py",
   "mimetype": "text/x-python",
   "name": "python",
   "nbconvert_exporter": "python",
   "pygments_lexer": "ipython3",
   "version": "3.7.6"
  }
 },
 "nbformat": 4,
 "nbformat_minor": 5
}
